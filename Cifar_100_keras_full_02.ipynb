{
  "nbformat": 4,
  "nbformat_minor": 0,
  "metadata": {
    "colab": {
      "name": "Cifar-100_keras_full_02.ipynb",
      "provenance": [],
      "collapsed_sections": [],
      "toc_visible": true,
      "authorship_tag": "ABX9TyOlTrhNmvdDiX5WB0FAEX7R",
      "include_colab_link": true
    },
    "kernelspec": {
      "name": "python3",
      "display_name": "Python 3"
    },
    "accelerator": "GPU"
  },
  "cells": [
    {
      "cell_type": "markdown",
      "metadata": {
        "id": "view-in-github",
        "colab_type": "text"
      },
      "source": [
        "<a href=\"https://colab.research.google.com/github/MethodFunc/DL-COLAB/blob/master/Cifar_100_keras_full_02.ipynb\" target=\"_parent\"><img src=\"https://colab.research.google.com/assets/colab-badge.svg\" alt=\"Open In Colab\"/></a>"
      ]
    },
    {
      "cell_type": "markdown",
      "metadata": {
        "id": "LWGEBbOLncBN",
        "colab_type": "text"
      },
      "source": [
        "# Import"
      ]
    },
    {
      "cell_type": "code",
      "metadata": {
        "id": "Jba9i7Q6nVfk",
        "colab_type": "code",
        "colab": {}
      },
      "source": [
        "import tensorflow as tf\n",
        "import matplotlib as mpl\n",
        "import matplotlib.pyplot as plt\n",
        "import numpy as np"
      ],
      "execution_count": 28,
      "outputs": []
    },
    {
      "cell_type": "markdown",
      "metadata": {
        "id": "AReNhnEMnnPs",
        "colab_type": "text"
      },
      "source": [
        "# From"
      ]
    },
    {
      "cell_type": "code",
      "metadata": {
        "id": "hOVeXNB21F7u",
        "colab_type": "code",
        "colab": {}
      },
      "source": [
        "from tensorflow import keras"
      ],
      "execution_count": 29,
      "outputs": []
    },
    {
      "cell_type": "code",
      "metadata": {
        "id": "yksNRMQznoWX",
        "colab_type": "code",
        "colab": {
          "base_uri": "https://localhost:8080/",
          "height": 35
        },
        "outputId": "6dff2c3d-b371-49f9-96fe-a191612f8423"
      },
      "source": [
        "from keras.datasets import cifar100\n",
        "from keras.models import Sequential, load_model\n",
        "from keras.layers import Conv2D, MaxPooling2D, Flatten, Dense, Dropout, Activation\n",
        "from keras.callbacks import ModelCheckpoint, EarlyStopping"
      ],
      "execution_count": 30,
      "outputs": [
        {
          "output_type": "stream",
          "text": [
            "Using TensorFlow backend.\n"
          ],
          "name": "stderr"
        }
      ]
    },
    {
      "cell_type": "code",
      "metadata": {
        "id": "5Z2Ya6ILn4gK",
        "colab_type": "code",
        "colab": {}
      },
      "source": [
        "seed = 2020\n",
        "np.random.seed(seed)\n",
        "tf.random.set_seed(seed)"
      ],
      "execution_count": 9,
      "outputs": []
    },
    {
      "cell_type": "markdown",
      "metadata": {
        "id": "q1Ns5hyQo85L",
        "colab_type": "text"
      },
      "source": [
        "# Code(전처리)"
      ]
    },
    {
      "cell_type": "code",
      "metadata": {
        "id": "iCANZ5VNoE1V",
        "colab_type": "code",
        "colab": {
          "base_uri": "https://localhost:8080/",
          "height": 53
        },
        "outputId": "8c0429a8-550e-45e1-d086-6cbe21d27593"
      },
      "source": [
        "(x_train, y_train), (x_test, y_test) = cifar100.load_data()"
      ],
      "execution_count": 10,
      "outputs": [
        {
          "output_type": "stream",
          "text": [
            "Downloading data from https://www.cs.toronto.edu/~kriz/cifar-100-python.tar.gz\n",
            "169009152/169001437 [==============================] - 6s 0us/step\n"
          ],
          "name": "stdout"
        }
      ]
    },
    {
      "cell_type": "code",
      "metadata": {
        "id": "LYIi4kpLobrI",
        "colab_type": "code",
        "colab": {
          "base_uri": "https://localhost:8080/",
          "height": 35
        },
        "outputId": "4d269bc3-96e6-4247-d65c-db343f7fc124"
      },
      "source": [
        "x_train.shape, x_test.shape"
      ],
      "execution_count": 11,
      "outputs": [
        {
          "output_type": "execute_result",
          "data": {
            "text/plain": [
              "((50000, 32, 32, 3), (10000, 32, 32, 3))"
            ]
          },
          "metadata": {
            "tags": []
          },
          "execution_count": 11
        }
      ]
    },
    {
      "cell_type": "code",
      "metadata": {
        "id": "cMYe9lq6odfy",
        "colab_type": "code",
        "colab": {
          "base_uri": "https://localhost:8080/",
          "height": 124
        },
        "outputId": "0c2ef511-c08a-4994-80a4-d8e0ec1ff9b6"
      },
      "source": [
        "plt.subplot(141)\n",
        "plt.imshow(x_train[0], interpolation='bicubic')\n",
        "plt.grid(False)\n",
        "plt.subplot(142)\n",
        "plt.imshow(x_train[4], interpolation='bicubic')\n",
        "plt.grid(False)\n",
        "plt.subplot(143)\n",
        "plt.imshow(x_train[8], interpolation='bicubic')\n",
        "plt.grid(False)\n",
        "plt.subplot(144)\n",
        "plt.imshow(x_train[12], interpolation='bicubic')\n",
        "plt.grid(False)\n",
        "plt.show()"
      ],
      "execution_count": 12,
      "outputs": [
        {
          "output_type": "display_data",
          "data": {
            "image/png": "[encoded data removed]",
            "text/plain": [
              "<Figure size 432x288 with 4 Axes>"
            ]
          },
          "metadata": {
            "tags": [],
            "needs_background": "light"
          }
        }
      ]
    },
    {
      "cell_type": "code",
      "metadata": {
        "id": "wLEQYw-oot57",
        "colab_type": "code",
        "colab": {
          "base_uri": "https://localhost:8080/",
          "height": 35
        },
        "outputId": "49a289e0-02f0-45bd-a93d-524aec0f4731"
      },
      "source": [
        "y_train[0], y_train[4], y_train[8], y_train[12]"
      ],
      "execution_count": 13,
      "outputs": [
        {
          "output_type": "execute_result",
          "data": {
            "text/plain": [
              "(array([19]), array([1]), array([23]), array([82]))"
            ]
          },
          "metadata": {
            "tags": []
          },
          "execution_count": 13
        }
      ]
    },
    {
      "cell_type": "code",
      "metadata": {
        "id": "Eg06gcuEpYol",
        "colab_type": "code",
        "colab": {
          "base_uri": "https://localhost:8080/",
          "height": 35
        },
        "outputId": "59a6ba2f-7a51-42ec-8023-4ea15f6ac087"
      },
      "source": [
        "np.max(y_train), np.min(y_train)"
      ],
      "execution_count": 14,
      "outputs": [
        {
          "output_type": "execute_result",
          "data": {
            "text/plain": [
              "(99, 0)"
            ]
          },
          "metadata": {
            "tags": []
          },
          "execution_count": 14
        }
      ]
    },
    {
      "cell_type": "code",
      "metadata": {
        "id": "Ul24c2fHo5Sa",
        "colab_type": "code",
        "colab": {
          "base_uri": "https://localhost:8080/",
          "height": 35
        },
        "outputId": "c8335d07-4942-4899-a025-6131b81f301c"
      },
      "source": [
        "x_train = x_train.astype('float32')/255.0\n",
        "x_test = x_test.astype('float32')/255.0\n",
        "\n",
        "print(x_train.shape, x_test.shape)"
      ],
      "execution_count": 15,
      "outputs": [
        {
          "output_type": "stream",
          "text": [
            "(50000, 32, 32, 3) (10000, 32, 32, 3)\n"
          ],
          "name": "stdout"
        }
      ]
    },
    {
      "cell_type": "code",
      "metadata": {
        "id": "fOkyDdS5pHoL",
        "colab_type": "code",
        "colab": {
          "base_uri": "https://localhost:8080/",
          "height": 143
        },
        "outputId": "afdab60a-b6ce-4ea6-9c7c-3a94a5e7e989"
      },
      "source": [
        "y_train = tf.keras.utils.to_categorical(y_train, 100)\n",
        "y_test = tf.keras.utils.to_categorical(y_test, 100)\n",
        "y_train[0]"
      ],
      "execution_count": 16,
      "outputs": [
        {
          "output_type": "execute_result",
          "data": {
            "text/plain": [
              "array([0., 0., 0., 0., 0., 0., 0., 0., 0., 0., 0., 0., 0., 0., 0., 0., 0.,\n",
              "       0., 0., 1., 0., 0., 0., 0., 0., 0., 0., 0., 0., 0., 0., 0., 0., 0.,\n",
              "       0., 0., 0., 0., 0., 0., 0., 0., 0., 0., 0., 0., 0., 0., 0., 0., 0.,\n",
              "       0., 0., 0., 0., 0., 0., 0., 0., 0., 0., 0., 0., 0., 0., 0., 0., 0.,\n",
              "       0., 0., 0., 0., 0., 0., 0., 0., 0., 0., 0., 0., 0., 0., 0., 0., 0.,\n",
              "       0., 0., 0., 0., 0., 0., 0., 0., 0., 0., 0., 0., 0., 0., 0.],\n",
              "      dtype=float32)"
            ]
          },
          "metadata": {
            "tags": []
          },
          "execution_count": 16
        }
      ]
    },
    {
      "cell_type": "markdown",
      "metadata": {
        "id": "UbOcpc8fw8bn",
        "colab_type": "text"
      },
      "source": [
        "# Model 생성"
      ]
    },
    {
      "cell_type": "code",
      "metadata": {
        "id": "6akpEj5ypQCS",
        "colab_type": "code",
        "colab": {
          "base_uri": "https://localhost:8080/",
          "height": 845
        },
        "outputId": "4d81802d-8051-436f-b45e-4f3a7221e5af"
      },
      "source": [
        "model = Sequential()\n",
        "\n",
        "model.add(Conv2D(32, 3, padding='same', input_shape=x_train.shape[1:]))\n",
        "model.add(Activation('relu'))\n",
        "\n",
        "model.add(MaxPooling2D(2))\n",
        "model.add(Activation('relu'))\n",
        "\n",
        "model.add(Conv2D(64, 3, padding='same'))\n",
        "model.add(Activation('relu'))\n",
        "\n",
        "model.add(MaxPooling2D(2))\n",
        "model.add(Activation('relu'))\n",
        "\n",
        "model.add(Dropout(0.1))\n",
        "\n",
        "model.add(Conv2D(128, 3, padding='same'))\n",
        "model.add(Activation('relu'))\n",
        "\n",
        "model.add(MaxPooling2D(2))\n",
        "model.add(Dropout(0.25))\n",
        "\n",
        "model.add(Flatten())\n",
        "\n",
        "model.add(Dense(512))\n",
        "model.add(Activation('relu'))\n",
        "\n",
        "model.add(Dropout(0.5))\n",
        "\n",
        "model.add(Dense(100))\n",
        "model.add(Activation('softmax'))\n",
        "\n",
        "model.summary()"
      ],
      "execution_count": 17,
      "outputs": [
        {
          "output_type": "stream",
          "text": [
            "Model: \"sequential\"\n",
            "_________________________________________________________________\n",
            "Layer (type)                 Output Shape              Param #   \n",
            "=================================================================\n",
            "conv2d (Conv2D)              (None, 32, 32, 32)        896       \n",
            "_________________________________________________________________\n",
            "activation (Activation)      (None, 32, 32, 32)        0         \n",
            "_________________________________________________________________\n",
            "max_pooling2d (MaxPooling2D) (None, 16, 16, 32)        0         \n",
            "_________________________________________________________________\n",
            "activation_1 (Activation)    (None, 16, 16, 32)        0         \n",
            "_________________________________________________________________\n",
            "conv2d_1 (Conv2D)            (None, 16, 16, 64)        18496     \n",
            "_________________________________________________________________\n",
            "activation_2 (Activation)    (None, 16, 16, 64)        0         \n",
            "_________________________________________________________________\n",
            "max_pooling2d_1 (MaxPooling2 (None, 8, 8, 64)          0         \n",
            "_________________________________________________________________\n",
            "activation_3 (Activation)    (None, 8, 8, 64)          0         \n",
            "_________________________________________________________________\n",
            "dropout (Dropout)            (None, 8, 8, 64)          0         \n",
            "_________________________________________________________________\n",
            "conv2d_2 (Conv2D)            (None, 8, 8, 128)         73856     \n",
            "_________________________________________________________________\n",
            "activation_4 (Activation)    (None, 8, 8, 128)         0         \n",
            "_________________________________________________________________\n",
            "max_pooling2d_2 (MaxPooling2 (None, 4, 4, 128)         0         \n",
            "_________________________________________________________________\n",
            "dropout_1 (Dropout)          (None, 4, 4, 128)         0         \n",
            "_________________________________________________________________\n",
            "flatten (Flatten)            (None, 2048)              0         \n",
            "_________________________________________________________________\n",
            "dense (Dense)                (None, 512)               1049088   \n",
            "_________________________________________________________________\n",
            "activation_5 (Activation)    (None, 512)               0         \n",
            "_________________________________________________________________\n",
            "dropout_2 (Dropout)          (None, 512)               0         \n",
            "_________________________________________________________________\n",
            "dense_1 (Dense)              (None, 100)               51300     \n",
            "_________________________________________________________________\n",
            "activation_6 (Activation)    (None, 100)               0         \n",
            "=================================================================\n",
            "Total params: 1,193,636\n",
            "Trainable params: 1,193,636\n",
            "Non-trainable params: 0\n",
            "_________________________________________________________________\n"
          ],
          "name": "stdout"
        }
      ]
    },
    {
      "cell_type": "markdown",
      "metadata": {
        "id": "ZZd5H4qfy3uo",
        "colab_type": "text"
      },
      "source": [
        "## Compile"
      ]
    },
    {
      "cell_type": "code",
      "metadata": {
        "id": "hwJcLvbLqR0m",
        "colab_type": "code",
        "colab": {}
      },
      "source": [
        "model.compile(loss = 'categorical_crossentropy',\n",
        "             optimizer = tf.keras.optimizers.Adam(0.0001),\n",
        "             metrics=['accuracy'])"
      ],
      "execution_count": 18,
      "outputs": []
    },
    {
      "cell_type": "markdown",
      "metadata": {
        "id": "WjLBfTbTyo67",
        "colab_type": "text"
      },
      "source": [
        "## Best Model Save(모델 저장)"
      ]
    },
    {
      "cell_type": "code",
      "metadata": {
        "id": "FrHEKG--xUk3",
        "colab_type": "code",
        "colab": {}
      },
      "source": [
        "MODELPATH='model/Cifar{epoch:03d}-{val_loss:.4f}.hdf5'\n",
        "checkpoint_cb = ModelCheckpoint(MODELPATH, verbose=1, save_best_only=True)\n",
        "early_stopping_cb = EarlyStopping(patience=20)"
      ],
      "execution_count": 19,
      "outputs": []
    },
    {
      "cell_type": "markdown",
      "metadata": {
        "id": "0LeQbnAYzFnm",
        "colab_type": "text"
      },
      "source": [
        "## Training(훈련)"
      ]
    },
    {
      "cell_type": "code",
      "metadata": {
        "id": "VT43YW9jqoZR",
        "colab_type": "code",
        "colab": {
          "base_uri": "https://localhost:8080/",
          "height": 1000
        },
        "outputId": "f118d3ed-3393-4b5b-80fd-f43127727931"
      },
      "source": [
        "history = model.fit(x_train, y_train, validation_data=(x_test, y_test), batch_size=50, epochs=300, callbacks=[checkpoint_cb, early_stopping_cb])"
      ],
      "execution_count": 21,
      "outputs": [
        {
          "output_type": "stream",
          "text": [
            "Epoch 1/300\n",
            " 999/1000 [============================>.] - ETA: 0s - loss: 4.3322 - accuracy: 0.0438\n",
            "Epoch 00001: val_loss improved from inf to 3.94933, saving model to model/Cifar001-3.9493.hdf5\n",
            "1000/1000 [==============================] - 12s 12ms/step - loss: 4.3319 - accuracy: 0.0439 - val_loss: 3.9493 - val_accuracy: 0.1144\n",
            "Epoch 2/300\n",
            " 998/1000 [============================>.] - ETA: 0s - loss: 3.8797 - accuracy: 0.1095\n",
            "Epoch 00002: val_loss improved from 3.94933 to 3.61176, saving model to model/Cifar002-3.6118.hdf5\n",
            "1000/1000 [==============================] - 13s 13ms/step - loss: 3.8795 - accuracy: 0.1095 - val_loss: 3.6118 - val_accuracy: 0.1701\n",
            "Epoch 3/300\n",
            "1000/1000 [==============================] - ETA: 0s - loss: 3.6467 - accuracy: 0.1447\n",
            "Epoch 00003: val_loss improved from 3.61176 to 3.39999, saving model to model/Cifar003-3.4000.hdf5\n",
            "1000/1000 [==============================] - 12s 12ms/step - loss: 3.6467 - accuracy: 0.1447 - val_loss: 3.4000 - val_accuracy: 0.2086\n",
            "Epoch 4/300\n",
            " 997/1000 [============================>.] - ETA: 0s - loss: 3.4873 - accuracy: 0.1736\n",
            "Epoch 00004: val_loss improved from 3.39999 to 3.25780, saving model to model/Cifar004-3.2578.hdf5\n",
            "1000/1000 [==============================] - 12s 12ms/step - loss: 3.4874 - accuracy: 0.1736 - val_loss: 3.2578 - val_accuracy: 0.2321\n",
            "Epoch 5/300\n",
            " 996/1000 [============================>.] - ETA: 0s - loss: 3.3570 - accuracy: 0.1955\n",
            "Epoch 00005: val_loss improved from 3.25780 to 3.13909, saving model to model/Cifar005-3.1391.hdf5\n",
            "1000/1000 [==============================] - 12s 12ms/step - loss: 3.3573 - accuracy: 0.1955 - val_loss: 3.1391 - val_accuracy: 0.2538\n",
            "Epoch 6/300\n",
            "1000/1000 [==============================] - ETA: 0s - loss: 3.2475 - accuracy: 0.2169\n",
            "Epoch 00006: val_loss improved from 3.13909 to 3.04347, saving model to model/Cifar006-3.0435.hdf5\n",
            "1000/1000 [==============================] - 12s 12ms/step - loss: 3.2475 - accuracy: 0.2169 - val_loss: 3.0435 - val_accuracy: 0.2685\n",
            "Epoch 7/300\n",
            " 998/1000 [============================>.] - ETA: 0s - loss: 3.1559 - accuracy: 0.2317\n",
            "Epoch 00007: val_loss improved from 3.04347 to 2.97554, saving model to model/Cifar007-2.9755.hdf5\n",
            "1000/1000 [==============================] - 12s 12ms/step - loss: 3.1560 - accuracy: 0.2317 - val_loss: 2.9755 - val_accuracy: 0.2866\n",
            "Epoch 8/300\n",
            " 997/1000 [============================>.] - ETA: 0s - loss: 3.0691 - accuracy: 0.2475\n",
            "Epoch 00008: val_loss improved from 2.97554 to 2.87560, saving model to model/Cifar008-2.8756.hdf5\n",
            "1000/1000 [==============================] - 12s 12ms/step - loss: 3.0691 - accuracy: 0.2476 - val_loss: 2.8756 - val_accuracy: 0.2987\n",
            "Epoch 9/300\n",
            " 999/1000 [============================>.] - ETA: 0s - loss: 2.9950 - accuracy: 0.2614\n",
            "Epoch 00009: val_loss improved from 2.87560 to 2.81374, saving model to model/Cifar009-2.8137.hdf5\n",
            "1000/1000 [==============================] - 12s 12ms/step - loss: 2.9952 - accuracy: 0.2614 - val_loss: 2.8137 - val_accuracy: 0.3143\n",
            "Epoch 10/300\n",
            " 997/1000 [============================>.] - ETA: 0s - loss: 2.9333 - accuracy: 0.2711\n",
            "Epoch 00010: val_loss improved from 2.81374 to 2.78562, saving model to model/Cifar010-2.7856.hdf5\n",
            "1000/1000 [==============================] - 12s 12ms/step - loss: 2.9336 - accuracy: 0.2709 - val_loss: 2.7856 - val_accuracy: 0.3212\n",
            "Epoch 11/300\n",
            " 998/1000 [============================>.] - ETA: 0s - loss: 2.8756 - accuracy: 0.2855\n",
            "Epoch 00011: val_loss improved from 2.78562 to 2.74958, saving model to model/Cifar011-2.7496.hdf5\n",
            "1000/1000 [==============================] - 12s 12ms/step - loss: 2.8758 - accuracy: 0.2855 - val_loss: 2.7496 - val_accuracy: 0.3233\n",
            "Epoch 12/300\n",
            " 996/1000 [============================>.] - ETA: 0s - loss: 2.8148 - accuracy: 0.2953\n",
            "Epoch 00012: val_loss improved from 2.74958 to 2.67346, saving model to model/Cifar012-2.6735.hdf5\n",
            "1000/1000 [==============================] - 12s 12ms/step - loss: 2.8147 - accuracy: 0.2953 - val_loss: 2.6735 - val_accuracy: 0.3411\n",
            "Epoch 13/300\n",
            " 999/1000 [============================>.] - ETA: 0s - loss: 2.7719 - accuracy: 0.3049\n",
            "Epoch 00013: val_loss improved from 2.67346 to 2.62167, saving model to model/Cifar013-2.6217.hdf5\n",
            "1000/1000 [==============================] - 12s 12ms/step - loss: 2.7720 - accuracy: 0.3049 - val_loss: 2.6217 - val_accuracy: 0.3524\n",
            "Epoch 14/300\n",
            "1000/1000 [==============================] - ETA: 0s - loss: 2.7189 - accuracy: 0.3168\n",
            "Epoch 00014: val_loss improved from 2.62167 to 2.58865, saving model to model/Cifar014-2.5887.hdf5\n",
            "1000/1000 [==============================] - 12s 12ms/step - loss: 2.7189 - accuracy: 0.3168 - val_loss: 2.5887 - val_accuracy: 0.3597\n",
            "Epoch 15/300\n",
            " 997/1000 [============================>.] - ETA: 0s - loss: 2.6699 - accuracy: 0.3266\n",
            "Epoch 00015: val_loss improved from 2.58865 to 2.53972, saving model to model/Cifar015-2.5397.hdf5\n",
            "1000/1000 [==============================] - 12s 12ms/step - loss: 2.6697 - accuracy: 0.3267 - val_loss: 2.5397 - val_accuracy: 0.3670\n",
            "Epoch 16/300\n",
            "1000/1000 [==============================] - ETA: 0s - loss: 2.6257 - accuracy: 0.3363\n",
            "Epoch 00016: val_loss improved from 2.53972 to 2.51385, saving model to model/Cifar016-2.5139.hdf5\n",
            "1000/1000 [==============================] - 12s 12ms/step - loss: 2.6257 - accuracy: 0.3363 - val_loss: 2.5139 - val_accuracy: 0.3728\n",
            "Epoch 17/300\n",
            " 997/1000 [============================>.] - ETA: 0s - loss: 2.5797 - accuracy: 0.3447\n",
            "Epoch 00017: val_loss improved from 2.51385 to 2.50616, saving model to model/Cifar017-2.5062.hdf5\n",
            "1000/1000 [==============================] - 12s 12ms/step - loss: 2.5806 - accuracy: 0.3445 - val_loss: 2.5062 - val_accuracy: 0.3756\n",
            "Epoch 18/300\n",
            " 999/1000 [============================>.] - ETA: 0s - loss: 2.5394 - accuracy: 0.3534\n",
            "Epoch 00018: val_loss improved from 2.50616 to 2.45040, saving model to model/Cifar018-2.4504.hdf5\n",
            "1000/1000 [==============================] - 12s 12ms/step - loss: 2.5394 - accuracy: 0.3534 - val_loss: 2.4504 - val_accuracy: 0.3875\n",
            "Epoch 19/300\n",
            " 997/1000 [============================>.] - ETA: 0s - loss: 2.5062 - accuracy: 0.3584\n",
            "Epoch 00019: val_loss improved from 2.45040 to 2.43543, saving model to model/Cifar019-2.4354.hdf5\n",
            "1000/1000 [==============================] - 12s 12ms/step - loss: 2.5059 - accuracy: 0.3583 - val_loss: 2.4354 - val_accuracy: 0.3862\n",
            "Epoch 20/300\n",
            " 999/1000 [============================>.] - ETA: 0s - loss: 2.4679 - accuracy: 0.3665\n",
            "Epoch 00020: val_loss improved from 2.43543 to 2.39584, saving model to model/Cifar020-2.3958.hdf5\n",
            "1000/1000 [==============================] - 12s 12ms/step - loss: 2.4678 - accuracy: 0.3665 - val_loss: 2.3958 - val_accuracy: 0.3978\n",
            "Epoch 21/300\n",
            " 997/1000 [============================>.] - ETA: 0s - loss: 2.4337 - accuracy: 0.3751\n",
            "Epoch 00021: val_loss improved from 2.39584 to 2.37178, saving model to model/Cifar021-2.3718.hdf5\n",
            "1000/1000 [==============================] - 12s 12ms/step - loss: 2.4330 - accuracy: 0.3752 - val_loss: 2.3718 - val_accuracy: 0.4067\n",
            "Epoch 22/300\n",
            " 996/1000 [============================>.] - ETA: 0s - loss: 2.3962 - accuracy: 0.3826\n",
            "Epoch 00022: val_loss improved from 2.37178 to 2.34835, saving model to model/Cifar022-2.3484.hdf5\n",
            "1000/1000 [==============================] - 12s 12ms/step - loss: 2.3969 - accuracy: 0.3823 - val_loss: 2.3484 - val_accuracy: 0.4042\n",
            "Epoch 23/300\n",
            "1000/1000 [==============================] - ETA: 0s - loss: 2.3683 - accuracy: 0.3890\n",
            "Epoch 00023: val_loss improved from 2.34835 to 2.31787, saving model to model/Cifar023-2.3179.hdf5\n",
            "1000/1000 [==============================] - 12s 12ms/step - loss: 2.3683 - accuracy: 0.3890 - val_loss: 2.3179 - val_accuracy: 0.4114\n",
            "Epoch 24/300\n",
            " 996/1000 [============================>.] - ETA: 0s - loss: 2.3309 - accuracy: 0.3981\n",
            "Epoch 00024: val_loss improved from 2.31787 to 2.30896, saving model to model/Cifar024-2.3090.hdf5\n",
            "1000/1000 [==============================] - 12s 12ms/step - loss: 2.3303 - accuracy: 0.3983 - val_loss: 2.3090 - val_accuracy: 0.4130\n",
            "Epoch 25/300\n",
            " 997/1000 [============================>.] - ETA: 0s - loss: 2.2998 - accuracy: 0.4025\n",
            "Epoch 00025: val_loss improved from 2.30896 to 2.28267, saving model to model/Cifar025-2.2827.hdf5\n",
            "1000/1000 [==============================] - 12s 12ms/step - loss: 2.3002 - accuracy: 0.4025 - val_loss: 2.2827 - val_accuracy: 0.4197\n",
            "Epoch 26/300\n",
            " 997/1000 [============================>.] - ETA: 0s - loss: 2.2741 - accuracy: 0.4078\n",
            "Epoch 00026: val_loss did not improve from 2.28267\n",
            "1000/1000 [==============================] - 12s 12ms/step - loss: 2.2740 - accuracy: 0.4079 - val_loss: 2.2940 - val_accuracy: 0.4161\n",
            "Epoch 27/300\n",
            " 997/1000 [============================>.] - ETA: 0s - loss: 2.2406 - accuracy: 0.4141\n",
            "Epoch 00027: val_loss improved from 2.28267 to 2.26724, saving model to model/Cifar027-2.2672.hdf5\n",
            "1000/1000 [==============================] - 12s 12ms/step - loss: 2.2402 - accuracy: 0.4142 - val_loss: 2.2672 - val_accuracy: 0.4243\n",
            "Epoch 28/300\n",
            "1000/1000 [==============================] - ETA: 0s - loss: 2.2192 - accuracy: 0.4193\n",
            "Epoch 00028: val_loss improved from 2.26724 to 2.23812, saving model to model/Cifar028-2.2381.hdf5\n",
            "1000/1000 [==============================] - 12s 12ms/step - loss: 2.2192 - accuracy: 0.4193 - val_loss: 2.2381 - val_accuracy: 0.4263\n",
            "Epoch 29/300\n",
            " 999/1000 [============================>.] - ETA: 0s - loss: 2.1837 - accuracy: 0.4275\n",
            "Epoch 00029: val_loss improved from 2.23812 to 2.20954, saving model to model/Cifar029-2.2095.hdf5\n",
            "1000/1000 [==============================] - 12s 12ms/step - loss: 2.1837 - accuracy: 0.4274 - val_loss: 2.2095 - val_accuracy: 0.4332\n",
            "Epoch 30/300\n",
            "1000/1000 [==============================] - ETA: 0s - loss: 2.1600 - accuracy: 0.4320\n",
            "Epoch 00030: val_loss improved from 2.20954 to 2.20260, saving model to model/Cifar030-2.2026.hdf5\n",
            "1000/1000 [==============================] - 12s 12ms/step - loss: 2.1600 - accuracy: 0.4320 - val_loss: 2.2026 - val_accuracy: 0.4374\n",
            "Epoch 31/300\n",
            " 998/1000 [============================>.] - ETA: 0s - loss: 2.1286 - accuracy: 0.4378\n",
            "Epoch 00031: val_loss improved from 2.20260 to 2.18433, saving model to model/Cifar031-2.1843.hdf5\n",
            "1000/1000 [==============================] - 12s 12ms/step - loss: 2.1293 - accuracy: 0.4378 - val_loss: 2.1843 - val_accuracy: 0.4404\n",
            "Epoch 32/300\n",
            " 996/1000 [============================>.] - ETA: 0s - loss: 2.1040 - accuracy: 0.4429\n",
            "Epoch 00032: val_loss improved from 2.18433 to 2.17700, saving model to model/Cifar032-2.1770.hdf5\n",
            "1000/1000 [==============================] - 12s 12ms/step - loss: 2.1044 - accuracy: 0.4429 - val_loss: 2.1770 - val_accuracy: 0.4409\n",
            "Epoch 33/300\n",
            " 998/1000 [============================>.] - ETA: 0s - loss: 2.0900 - accuracy: 0.4466\n",
            "Epoch 00033: val_loss improved from 2.17700 to 2.17611, saving model to model/Cifar033-2.1761.hdf5\n",
            "1000/1000 [==============================] - 12s 12ms/step - loss: 2.0896 - accuracy: 0.4466 - val_loss: 2.1761 - val_accuracy: 0.4437\n",
            "Epoch 34/300\n",
            " 999/1000 [============================>.] - ETA: 0s - loss: 2.0515 - accuracy: 0.4557\n",
            "Epoch 00034: val_loss improved from 2.17611 to 2.14720, saving model to model/Cifar034-2.1472.hdf5\n",
            "1000/1000 [==============================] - 12s 12ms/step - loss: 2.0514 - accuracy: 0.4558 - val_loss: 2.1472 - val_accuracy: 0.4481\n",
            "Epoch 35/300\n",
            " 996/1000 [============================>.] - ETA: 0s - loss: 2.0330 - accuracy: 0.4607\n",
            "Epoch 00035: val_loss did not improve from 2.14720\n",
            "1000/1000 [==============================] - 11s 11ms/step - loss: 2.0330 - accuracy: 0.4606 - val_loss: 2.1512 - val_accuracy: 0.4442\n",
            "Epoch 36/300\n",
            " 996/1000 [============================>.] - ETA: 0s - loss: 2.0154 - accuracy: 0.4636\n",
            "Epoch 00036: val_loss improved from 2.14720 to 2.13451, saving model to model/Cifar036-2.1345.hdf5\n",
            "1000/1000 [==============================] - 12s 12ms/step - loss: 2.0154 - accuracy: 0.4635 - val_loss: 2.1345 - val_accuracy: 0.4502\n",
            "Epoch 37/300\n",
            "1000/1000 [==============================] - ETA: 0s - loss: 1.9928 - accuracy: 0.4677\n",
            "Epoch 00037: val_loss improved from 2.13451 to 2.11083, saving model to model/Cifar037-2.1108.hdf5\n",
            "1000/1000 [==============================] - 12s 12ms/step - loss: 1.9928 - accuracy: 0.4677 - val_loss: 2.1108 - val_accuracy: 0.4539\n",
            "Epoch 38/300\n",
            " 997/1000 [============================>.] - ETA: 0s - loss: 1.9679 - accuracy: 0.4727\n",
            "Epoch 00038: val_loss improved from 2.11083 to 2.11033, saving model to model/Cifar038-2.1103.hdf5\n",
            "1000/1000 [==============================] - 11s 11ms/step - loss: 1.9674 - accuracy: 0.4729 - val_loss: 2.1103 - val_accuracy: 0.4511\n",
            "Epoch 39/300\n",
            " 996/1000 [============================>.] - ETA: 0s - loss: 1.9497 - accuracy: 0.4749\n",
            "Epoch 00039: val_loss improved from 2.11033 to 2.10565, saving model to model/Cifar039-2.1057.hdf5\n",
            "1000/1000 [==============================] - 11s 11ms/step - loss: 1.9495 - accuracy: 0.4750 - val_loss: 2.1057 - val_accuracy: 0.4542\n",
            "Epoch 40/300\n",
            "1000/1000 [==============================] - ETA: 0s - loss: 1.9208 - accuracy: 0.4871\n",
            "Epoch 00040: val_loss improved from 2.10565 to 2.08075, saving model to model/Cifar040-2.0808.hdf5\n",
            "1000/1000 [==============================] - 11s 11ms/step - loss: 1.9208 - accuracy: 0.4871 - val_loss: 2.0808 - val_accuracy: 0.4609\n",
            "Epoch 41/300\n",
            " 999/1000 [============================>.] - ETA: 0s - loss: 1.9016 - accuracy: 0.4887\n",
            "Epoch 00041: val_loss did not improve from 2.08075\n",
            "1000/1000 [==============================] - 11s 11ms/step - loss: 1.9017 - accuracy: 0.4886 - val_loss: 2.0901 - val_accuracy: 0.4593\n",
            "Epoch 42/300\n",
            " 997/1000 [============================>.] - ETA: 0s - loss: 1.8774 - accuracy: 0.4918\n",
            "Epoch 00042: val_loss improved from 2.08075 to 2.07631, saving model to model/Cifar042-2.0763.hdf5\n",
            "1000/1000 [==============================] - 11s 11ms/step - loss: 1.8778 - accuracy: 0.4916 - val_loss: 2.0763 - val_accuracy: 0.4640\n",
            "Epoch 43/300\n",
            "1000/1000 [==============================] - ETA: 0s - loss: 1.8645 - accuracy: 0.4948\n",
            "Epoch 00043: val_loss did not improve from 2.07631\n",
            "1000/1000 [==============================] - 11s 11ms/step - loss: 1.8645 - accuracy: 0.4948 - val_loss: 2.0769 - val_accuracy: 0.4649\n",
            "Epoch 44/300\n",
            " 997/1000 [============================>.] - ETA: 0s - loss: 1.8400 - accuracy: 0.4983\n",
            "Epoch 00044: val_loss improved from 2.07631 to 2.05155, saving model to model/Cifar044-2.0516.hdf5\n",
            "1000/1000 [==============================] - 11s 11ms/step - loss: 1.8398 - accuracy: 0.4983 - val_loss: 2.0516 - val_accuracy: 0.4705\n",
            "Epoch 45/300\n",
            " 996/1000 [============================>.] - ETA: 0s - loss: 1.8214 - accuracy: 0.5057\n",
            "Epoch 00045: val_loss did not improve from 2.05155\n",
            "1000/1000 [==============================] - 12s 12ms/step - loss: 1.8211 - accuracy: 0.5057 - val_loss: 2.0574 - val_accuracy: 0.4679\n",
            "Epoch 46/300\n",
            "1000/1000 [==============================] - ETA: 0s - loss: 1.7984 - accuracy: 0.5102\n",
            "Epoch 00046: val_loss improved from 2.05155 to 2.03981, saving model to model/Cifar046-2.0398.hdf5\n",
            "1000/1000 [==============================] - 11s 11ms/step - loss: 1.7984 - accuracy: 0.5102 - val_loss: 2.0398 - val_accuracy: 0.4691\n",
            "Epoch 47/300\n",
            "1000/1000 [==============================] - ETA: 0s - loss: 1.7811 - accuracy: 0.5122\n",
            "Epoch 00047: val_loss did not improve from 2.03981\n",
            "1000/1000 [==============================] - 11s 11ms/step - loss: 1.7811 - accuracy: 0.5122 - val_loss: 2.0410 - val_accuracy: 0.4720\n",
            "Epoch 48/300\n",
            " 998/1000 [============================>.] - ETA: 0s - loss: 1.7596 - accuracy: 0.5186\n",
            "Epoch 00048: val_loss improved from 2.03981 to 2.03023, saving model to model/Cifar048-2.0302.hdf5\n",
            "1000/1000 [==============================] - 11s 11ms/step - loss: 1.7590 - accuracy: 0.5186 - val_loss: 2.0302 - val_accuracy: 0.4707\n",
            "Epoch 49/300\n",
            " 999/1000 [============================>.] - ETA: 0s - loss: 1.7513 - accuracy: 0.5212\n",
            "Epoch 00049: val_loss did not improve from 2.03023\n",
            "1000/1000 [==============================] - 11s 11ms/step - loss: 1.7513 - accuracy: 0.5212 - val_loss: 2.0386 - val_accuracy: 0.4726\n",
            "Epoch 50/300\n",
            " 996/1000 [============================>.] - ETA: 0s - loss: 1.7351 - accuracy: 0.5218\n",
            "Epoch 00050: val_loss did not improve from 2.03023\n",
            "1000/1000 [==============================] - 11s 11ms/step - loss: 1.7350 - accuracy: 0.5219 - val_loss: 2.0348 - val_accuracy: 0.4754\n",
            "Epoch 51/300\n",
            " 997/1000 [============================>.] - ETA: 0s - loss: 1.7132 - accuracy: 0.5278\n",
            "Epoch 00051: val_loss improved from 2.03023 to 2.02367, saving model to model/Cifar051-2.0237.hdf5\n",
            "1000/1000 [==============================] - 11s 11ms/step - loss: 1.7130 - accuracy: 0.5278 - val_loss: 2.0237 - val_accuracy: 0.4744\n",
            "Epoch 52/300\n",
            "1000/1000 [==============================] - ETA: 0s - loss: 1.6977 - accuracy: 0.5347\n",
            "Epoch 00052: val_loss improved from 2.02367 to 2.02332, saving model to model/Cifar052-2.0233.hdf5\n",
            "1000/1000 [==============================] - 11s 11ms/step - loss: 1.6977 - accuracy: 0.5347 - val_loss: 2.0233 - val_accuracy: 0.4792\n",
            "Epoch 53/300\n",
            " 999/1000 [============================>.] - ETA: 0s - loss: 1.6734 - accuracy: 0.5356\n",
            "Epoch 00053: val_loss improved from 2.02332 to 2.01749, saving model to model/Cifar053-2.0175.hdf5\n",
            "1000/1000 [==============================] - 11s 11ms/step - loss: 1.6734 - accuracy: 0.5356 - val_loss: 2.0175 - val_accuracy: 0.4760\n",
            "Epoch 54/300\n",
            " 996/1000 [============================>.] - ETA: 0s - loss: 1.6664 - accuracy: 0.5381\n",
            "Epoch 00054: val_loss did not improve from 2.01749\n",
            "1000/1000 [==============================] - 11s 11ms/step - loss: 1.6662 - accuracy: 0.5381 - val_loss: 2.0233 - val_accuracy: 0.4787\n",
            "Epoch 55/300\n",
            " 997/1000 [============================>.] - ETA: 0s - loss: 1.6463 - accuracy: 0.5440\n",
            "Epoch 00055: val_loss did not improve from 2.01749\n",
            "1000/1000 [==============================] - 12s 12ms/step - loss: 1.6464 - accuracy: 0.5440 - val_loss: 2.0219 - val_accuracy: 0.4790\n",
            "Epoch 56/300\n",
            " 999/1000 [============================>.] - ETA: 0s - loss: 1.6220 - accuracy: 0.5499\n",
            "Epoch 00056: val_loss improved from 2.01749 to 2.00451, saving model to model/Cifar056-2.0045.hdf5\n",
            "1000/1000 [==============================] - 12s 12ms/step - loss: 1.6218 - accuracy: 0.5500 - val_loss: 2.0045 - val_accuracy: 0.4802\n",
            "Epoch 57/300\n",
            " 999/1000 [============================>.] - ETA: 0s - loss: 1.6127 - accuracy: 0.5501\n",
            "Epoch 00057: val_loss did not improve from 2.00451\n",
            "1000/1000 [==============================] - 11s 11ms/step - loss: 1.6128 - accuracy: 0.5501 - val_loss: 2.0048 - val_accuracy: 0.4786\n",
            "Epoch 58/300\n",
            " 997/1000 [============================>.] - ETA: 0s - loss: 1.5985 - accuracy: 0.5538\n",
            "Epoch 00058: val_loss did not improve from 2.00451\n",
            "1000/1000 [==============================] - 11s 11ms/step - loss: 1.5987 - accuracy: 0.5537 - val_loss: 2.0094 - val_accuracy: 0.4816\n",
            "Epoch 59/300\n",
            " 997/1000 [============================>.] - ETA: 0s - loss: 1.5844 - accuracy: 0.5570\n",
            "Epoch 00059: val_loss improved from 2.00451 to 2.00370, saving model to model/Cifar059-2.0037.hdf5\n",
            "1000/1000 [==============================] - 11s 11ms/step - loss: 1.5843 - accuracy: 0.5569 - val_loss: 2.0037 - val_accuracy: 0.4799\n",
            "Epoch 60/300\n",
            " 998/1000 [============================>.] - ETA: 0s - loss: 1.5732 - accuracy: 0.5602\n",
            "Epoch 00060: val_loss improved from 2.00370 to 2.00311, saving model to model/Cifar060-2.0031.hdf5\n",
            "1000/1000 [==============================] - 11s 11ms/step - loss: 1.5728 - accuracy: 0.5604 - val_loss: 2.0031 - val_accuracy: 0.4827\n",
            "Epoch 61/300\n",
            " 996/1000 [============================>.] - ETA: 0s - loss: 1.5477 - accuracy: 0.5633\n",
            "Epoch 00061: val_loss improved from 2.00311 to 1.98946, saving model to model/Cifar061-1.9895.hdf5\n",
            "1000/1000 [==============================] - 11s 11ms/step - loss: 1.5479 - accuracy: 0.5632 - val_loss: 1.9895 - val_accuracy: 0.4826\n",
            "Epoch 62/300\n",
            " 998/1000 [============================>.] - ETA: 0s - loss: 1.5376 - accuracy: 0.5701\n",
            "Epoch 00062: val_loss improved from 1.98946 to 1.98813, saving model to model/Cifar062-1.9881.hdf5\n",
            "1000/1000 [==============================] - 11s 11ms/step - loss: 1.5375 - accuracy: 0.5702 - val_loss: 1.9881 - val_accuracy: 0.4839\n",
            "Epoch 63/300\n",
            " 998/1000 [============================>.] - ETA: 0s - loss: 1.5179 - accuracy: 0.5712\n",
            "Epoch 00063: val_loss did not improve from 1.98813\n",
            "1000/1000 [==============================] - 11s 11ms/step - loss: 1.5183 - accuracy: 0.5711 - val_loss: 1.9921 - val_accuracy: 0.4860\n",
            "Epoch 64/300\n",
            " 997/1000 [============================>.] - ETA: 0s - loss: 1.5088 - accuracy: 0.5747\n",
            "Epoch 00064: val_loss did not improve from 1.98813\n",
            "1000/1000 [==============================] - 11s 11ms/step - loss: 1.5087 - accuracy: 0.5747 - val_loss: 1.9974 - val_accuracy: 0.4837\n",
            "Epoch 65/300\n",
            " 996/1000 [============================>.] - ETA: 0s - loss: 1.4967 - accuracy: 0.5770\n",
            "Epoch 00065: val_loss did not improve from 1.98813\n",
            "1000/1000 [==============================] - 11s 11ms/step - loss: 1.4968 - accuracy: 0.5770 - val_loss: 1.9940 - val_accuracy: 0.4818\n",
            "Epoch 66/300\n",
            " 998/1000 [============================>.] - ETA: 0s - loss: 1.4682 - accuracy: 0.5839\n",
            "Epoch 00066: val_loss did not improve from 1.98813\n",
            "1000/1000 [==============================] - 11s 11ms/step - loss: 1.4681 - accuracy: 0.5839 - val_loss: 1.9947 - val_accuracy: 0.4837\n",
            "Epoch 67/300\n",
            " 999/1000 [============================>.] - ETA: 0s - loss: 1.4663 - accuracy: 0.5821\n",
            "Epoch 00067: val_loss did not improve from 1.98813\n",
            "1000/1000 [==============================] - 11s 11ms/step - loss: 1.4665 - accuracy: 0.5821 - val_loss: 1.9925 - val_accuracy: 0.4859\n",
            "Epoch 68/300\n",
            " 998/1000 [============================>.] - ETA: 0s - loss: 1.4513 - accuracy: 0.5854\n",
            "Epoch 00068: val_loss improved from 1.98813 to 1.97983, saving model to model/Cifar068-1.9798.hdf5\n",
            "1000/1000 [==============================] - 11s 11ms/step - loss: 1.4511 - accuracy: 0.5853 - val_loss: 1.9798 - val_accuracy: 0.4907\n",
            "Epoch 69/300\n",
            "1000/1000 [==============================] - ETA: 0s - loss: 1.4350 - accuracy: 0.5912\n",
            "Epoch 00069: val_loss did not improve from 1.97983\n",
            "1000/1000 [==============================] - 11s 11ms/step - loss: 1.4350 - accuracy: 0.5912 - val_loss: 1.9833 - val_accuracy: 0.4926\n",
            "Epoch 70/300\n",
            " 998/1000 [============================>.] - ETA: 0s - loss: 1.4272 - accuracy: 0.5931\n",
            "Epoch 00070: val_loss improved from 1.97983 to 1.97813, saving model to model/Cifar070-1.9781.hdf5\n",
            "1000/1000 [==============================] - 11s 11ms/step - loss: 1.4273 - accuracy: 0.5930 - val_loss: 1.9781 - val_accuracy: 0.4920\n",
            "Epoch 71/300\n",
            " 997/1000 [============================>.] - ETA: 0s - loss: 1.4159 - accuracy: 0.5964\n",
            "Epoch 00071: val_loss did not improve from 1.97813\n",
            "1000/1000 [==============================] - 11s 11ms/step - loss: 1.4162 - accuracy: 0.5963 - val_loss: 1.9819 - val_accuracy: 0.4919\n",
            "Epoch 72/300\n",
            " 998/1000 [============================>.] - ETA: 0s - loss: 1.3924 - accuracy: 0.6003\n",
            "Epoch 00072: val_loss did not improve from 1.97813\n",
            "1000/1000 [==============================] - 12s 12ms/step - loss: 1.3923 - accuracy: 0.6004 - val_loss: 1.9807 - val_accuracy: 0.4919\n",
            "Epoch 73/300\n",
            " 998/1000 [============================>.] - ETA: 0s - loss: 1.3854 - accuracy: 0.6009\n",
            "Epoch 00073: val_loss improved from 1.97813 to 1.97800, saving model to model/Cifar073-1.9780.hdf5\n",
            "1000/1000 [==============================] - 11s 11ms/step - loss: 1.3861 - accuracy: 0.6007 - val_loss: 1.9780 - val_accuracy: 0.4916\n",
            "Epoch 74/300\n",
            " 998/1000 [============================>.] - ETA: 0s - loss: 1.3744 - accuracy: 0.6060\n",
            "Epoch 00074: val_loss did not improve from 1.97800\n",
            "1000/1000 [==============================] - 11s 11ms/step - loss: 1.3745 - accuracy: 0.6060 - val_loss: 2.0009 - val_accuracy: 0.4906\n",
            "Epoch 75/300\n",
            " 998/1000 [============================>.] - ETA: 0s - loss: 1.3625 - accuracy: 0.6068\n",
            "Epoch 00075: val_loss improved from 1.97800 to 1.97704, saving model to model/Cifar075-1.9770.hdf5\n",
            "1000/1000 [==============================] - 11s 11ms/step - loss: 1.3624 - accuracy: 0.6068 - val_loss: 1.9770 - val_accuracy: 0.4912\n",
            "Epoch 76/300\n",
            "1000/1000 [==============================] - ETA: 0s - loss: 1.3505 - accuracy: 0.6138\n",
            "Epoch 00076: val_loss did not improve from 1.97704\n",
            "1000/1000 [==============================] - 11s 11ms/step - loss: 1.3505 - accuracy: 0.6138 - val_loss: 1.9820 - val_accuracy: 0.4907\n",
            "Epoch 77/300\n",
            " 997/1000 [============================>.] - ETA: 0s - loss: 1.3370 - accuracy: 0.6122\n",
            "Epoch 00077: val_loss did not improve from 1.97704\n",
            "1000/1000 [==============================] - 11s 11ms/step - loss: 1.3365 - accuracy: 0.6125 - val_loss: 1.9806 - val_accuracy: 0.4929\n",
            "Epoch 78/300\n",
            " 997/1000 [============================>.] - ETA: 0s - loss: 1.3220 - accuracy: 0.6180\n",
            "Epoch 00078: val_loss did not improve from 1.97704\n",
            "1000/1000 [==============================] - 11s 11ms/step - loss: 1.3224 - accuracy: 0.6179 - val_loss: 1.9853 - val_accuracy: 0.4908\n",
            "Epoch 79/300\n",
            " 996/1000 [============================>.] - ETA: 0s - loss: 1.3098 - accuracy: 0.6174\n",
            "Epoch 00079: val_loss did not improve from 1.97704\n",
            "1000/1000 [==============================] - 11s 11ms/step - loss: 1.3104 - accuracy: 0.6175 - val_loss: 1.9872 - val_accuracy: 0.4907\n",
            "Epoch 80/300\n",
            " 998/1000 [============================>.] - ETA: 0s - loss: 1.3107 - accuracy: 0.6188\n",
            "Epoch 00080: val_loss did not improve from 1.97704\n",
            "1000/1000 [==============================] - 11s 11ms/step - loss: 1.3107 - accuracy: 0.6188 - val_loss: 2.0017 - val_accuracy: 0.4884\n",
            "Epoch 81/300\n",
            "1000/1000 [==============================] - ETA: 0s - loss: 1.2906 - accuracy: 0.6271\n",
            "Epoch 00081: val_loss did not improve from 1.97704\n",
            "1000/1000 [==============================] - 11s 11ms/step - loss: 1.2906 - accuracy: 0.6271 - val_loss: 1.9929 - val_accuracy: 0.4948\n",
            "Epoch 82/300\n",
            " 999/1000 [============================>.] - ETA: 0s - loss: 1.2727 - accuracy: 0.6282\n",
            "Epoch 00082: val_loss did not improve from 1.97704\n",
            "1000/1000 [==============================] - 12s 12ms/step - loss: 1.2729 - accuracy: 0.6281 - val_loss: 1.9945 - val_accuracy: 0.4926\n",
            "Epoch 83/300\n",
            " 997/1000 [============================>.] - ETA: 0s - loss: 1.2739 - accuracy: 0.6280\n",
            "Epoch 00083: val_loss did not improve from 1.97704\n",
            "1000/1000 [==============================] - 12s 12ms/step - loss: 1.2742 - accuracy: 0.6279 - val_loss: 1.9866 - val_accuracy: 0.4932\n",
            "Epoch 84/300\n",
            " 998/1000 [============================>.] - ETA: 0s - loss: 1.2616 - accuracy: 0.6308\n",
            "Epoch 00084: val_loss did not improve from 1.97704\n",
            "1000/1000 [==============================] - 11s 11ms/step - loss: 1.2613 - accuracy: 0.6309 - val_loss: 1.9935 - val_accuracy: 0.4949\n",
            "Epoch 85/300\n",
            " 998/1000 [============================>.] - ETA: 0s - loss: 1.2524 - accuracy: 0.6352\n",
            "Epoch 00085: val_loss did not improve from 1.97704\n",
            "1000/1000 [==============================] - 11s 11ms/step - loss: 1.2524 - accuracy: 0.6352 - val_loss: 1.9878 - val_accuracy: 0.4962\n",
            "Epoch 86/300\n",
            " 999/1000 [============================>.] - ETA: 0s - loss: 1.2381 - accuracy: 0.6349\n",
            "Epoch 00086: val_loss did not improve from 1.97704\n",
            "1000/1000 [==============================] - 11s 11ms/step - loss: 1.2381 - accuracy: 0.6348 - val_loss: 1.9991 - val_accuracy: 0.4977\n",
            "Epoch 87/300\n",
            " 999/1000 [============================>.] - ETA: 0s - loss: 1.2220 - accuracy: 0.6411\n",
            "Epoch 00087: val_loss did not improve from 1.97704\n",
            "1000/1000 [==============================] - 11s 11ms/step - loss: 1.2222 - accuracy: 0.6411 - val_loss: 1.9972 - val_accuracy: 0.4917\n",
            "Epoch 88/300\n",
            " 998/1000 [============================>.] - ETA: 0s - loss: 1.2124 - accuracy: 0.6427\n",
            "Epoch 00088: val_loss did not improve from 1.97704\n",
            "1000/1000 [==============================] - 11s 11ms/step - loss: 1.2127 - accuracy: 0.6426 - val_loss: 2.0067 - val_accuracy: 0.4937\n",
            "Epoch 89/300\n",
            " 996/1000 [============================>.] - ETA: 0s - loss: 1.2016 - accuracy: 0.6456\n",
            "Epoch 00089: val_loss did not improve from 1.97704\n",
            "1000/1000 [==============================] - 11s 11ms/step - loss: 1.2011 - accuracy: 0.6457 - val_loss: 2.0010 - val_accuracy: 0.4939\n",
            "Epoch 90/300\n",
            " 996/1000 [============================>.] - ETA: 0s - loss: 1.1991 - accuracy: 0.6466\n",
            "Epoch 00090: val_loss did not improve from 1.97704\n",
            "1000/1000 [==============================] - 11s 11ms/step - loss: 1.1992 - accuracy: 0.6467 - val_loss: 1.9937 - val_accuracy: 0.4940\n",
            "Epoch 91/300\n",
            " 999/1000 [============================>.] - ETA: 0s - loss: 1.1914 - accuracy: 0.6492\n",
            "Epoch 00091: val_loss did not improve from 1.97704\n",
            "1000/1000 [==============================] - 11s 11ms/step - loss: 1.1912 - accuracy: 0.6493 - val_loss: 2.0045 - val_accuracy: 0.4963\n",
            "Epoch 92/300\n",
            " 999/1000 [============================>.] - ETA: 0s - loss: 1.1857 - accuracy: 0.6496\n",
            "Epoch 00092: val_loss did not improve from 1.97704\n",
            "1000/1000 [==============================] - 11s 11ms/step - loss: 1.1857 - accuracy: 0.6496 - val_loss: 1.9943 - val_accuracy: 0.4945\n",
            "Epoch 93/300\n",
            "1000/1000 [==============================] - ETA: 0s - loss: 1.1733 - accuracy: 0.6512\n",
            "Epoch 00093: val_loss did not improve from 1.97704\n",
            "1000/1000 [==============================] - 11s 11ms/step - loss: 1.1733 - accuracy: 0.6512 - val_loss: 2.0097 - val_accuracy: 0.4953\n",
            "Epoch 94/300\n",
            " 996/1000 [============================>.] - ETA: 0s - loss: 1.1572 - accuracy: 0.6550\n",
            "Epoch 00094: val_loss did not improve from 1.97704\n",
            "1000/1000 [==============================] - 11s 11ms/step - loss: 1.1572 - accuracy: 0.6550 - val_loss: 2.0131 - val_accuracy: 0.4936\n",
            "Epoch 95/300\n",
            " 998/1000 [============================>.] - ETA: 0s - loss: 1.1613 - accuracy: 0.6558\n",
            "Epoch 00095: val_loss did not improve from 1.97704\n",
            "1000/1000 [==============================] - 11s 11ms/step - loss: 1.1615 - accuracy: 0.6557 - val_loss: 2.0136 - val_accuracy: 0.4950\n"
          ],
          "name": "stdout"
        }
      ]
    },
    {
      "cell_type": "markdown",
      "metadata": {
        "id": "aPWeJGFFzIDF",
        "colab_type": "text"
      },
      "source": [
        "## Evaluate(평가)"
      ]
    },
    {
      "cell_type": "code",
      "metadata": {
        "id": "-LifrRdb2q10",
        "colab_type": "code",
        "colab": {}
      },
      "source": [
        "del model"
      ],
      "execution_count": 23,
      "outputs": []
    },
    {
      "cell_type": "code",
      "metadata": {
        "id": "3s5ZZjO02uNL",
        "colab_type": "code",
        "colab": {}
      },
      "source": [
        "model = load_model('model/Cifar075-1.9770.hdf5')"
      ],
      "execution_count": 24,
      "outputs": []
    },
    {
      "cell_type": "code",
      "metadata": {
        "id": "LvuaFr-QrASy",
        "colab_type": "code",
        "colab": {
          "base_uri": "https://localhost:8080/",
          "height": 53
        },
        "outputId": "d06a6271-cc9b-4843-d6f5-88393e35322b"
      },
      "source": [
        "model.evaluate(x_test, y_test)[1]"
      ],
      "execution_count": 25,
      "outputs": [
        {
          "output_type": "stream",
          "text": [
            "313/313 [==============================] - 2s 5ms/step - loss: 1.9770 - accuracy: 0.4912\n"
          ],
          "name": "stdout"
        },
        {
          "output_type": "execute_result",
          "data": {
            "text/plain": [
              "0.4912000000476837"
            ]
          },
          "metadata": {
            "tags": []
          },
          "execution_count": 25
        }
      ]
    },
    {
      "cell_type": "code",
      "metadata": {
        "id": "uG1GtYIlsM8B",
        "colab_type": "code",
        "colab": {}
      },
      "source": [
        "y_vloss = history.history['val_loss']\n",
        "y_vacc = history.history['val_accuracy']\n",
        "y_loss = history.history['loss']\n",
        "y_acc = history.history['accuracy']"
      ],
      "execution_count": 26,
      "outputs": []
    },
    {
      "cell_type": "code",
      "metadata": {
        "id": "1TQk0nXYsapv",
        "colab_type": "code",
        "colab": {
          "base_uri": "https://localhost:8080/",
          "height": 506
        },
        "outputId": "e0e978e9-1085-43aa-a033-0335c224b73e"
      },
      "source": [
        "x_len = np.arange(1, len(y_loss) + 1 )\n",
        "fig, ax0 = plt.subplots(figsize=(12, 10))\n",
        "\n",
        "ax1 = ax0.twinx()\n",
        "\n",
        "ax0.plot(x_len, y_loss, c='blue', label='Trainset_loss')\n",
        "ax0.plot(x_len, y_vloss, c='red', label='Testset_loss')\n",
        "ax0.set_ylabel('loss')\n",
        "ax1.plot(x_len, y_acc, c='darkgreen', label='Trainset_acc')\n",
        "ax1.plot(x_len, y_vacc, c='magenta', label='Testset_acc')\n",
        "ax1.set_ylabel('accuracy')\n",
        "ax0.set_xlabel('epoch')\n",
        "ax0.legend(loc='upper center')\n",
        "ax1.legend(loc='lower center')\n",
        "plt.show()"
      ],
      "execution_count": 27,
      "outputs": [
        {
          "output_type": "display_data",
          "data": {
            "image/png": "[encoded data removed]",
            "text/plain": [
              "<Figure size 864x720 with 2 Axes>"
            ]
          },
          "metadata": {
            "tags": [],
            "needs_background": "light"
          }
        }
      ]
    },
    {
      "cell_type": "code",
      "metadata": {
        "id": "XNeGFMxm7uHI",
        "colab_type": "code",
        "colab": {}
      },
      "source": [
        ""
      ],
      "execution_count": null,
      "outputs": []
    }
  ]
}